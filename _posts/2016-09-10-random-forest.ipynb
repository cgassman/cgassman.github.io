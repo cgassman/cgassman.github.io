{
 "cells": [
  {
   "cell_type": "markdown",
   "metadata": {},
   "source": [
    "## Relevant imports"
   ]
  },
  {
   "cell_type": "code",
   "execution_count": 1,
   "metadata": {
    "collapsed": true
   },
   "outputs": [],
   "source": [
    "import pandas as pd\n",
    "\n",
    "from sklearn.cross_validation import StratifiedShuffleSplit\n",
    "\n",
    "from sklearn.ensemble import RandomForestClassifier\n",
    "\n",
    "from sklearn.metrics import roc_curve\n",
    "from sklearn.metrics import roc_auc_score\n",
    "from sklearn.metrics import confusion_matrix\n",
    "\n",
    "from matplotlib import pyplot as plt\n",
    "%matplotlib inline"
   ]
  },
  {
   "cell_type": "markdown",
   "metadata": {},
   "source": [
    "## Read and split data into a train and a valid set"
   ]
  },
  {
   "cell_type": "code",
   "execution_count": 2,
   "metadata": {
    "collapsed": false
   },
   "outputs": [
    {
     "name": "stdout",
     "output_type": "stream",
     "text": [
      "(76020, 371)\n"
     ]
    }
   ],
   "source": [
    "# read original data from train.csv. This data set is taken from a real Kaggle competition (Santander-May 2016)\n",
    "# (there is also a dedicated test set available, which was not taken into account here)\n",
    "orig_data = pd.read_table('train.csv', sep=',', header=0)\n",
    "\n",
    "# inspect the shape of the original data. It consists of 76020 rows (customers) and 371 attributes\n",
    "print(orig_data.shape)"
   ]
  },
  {
   "cell_type": "code",
   "execution_count": 3,
   "metadata": {
    "collapsed": false
   },
   "outputs": [
    {
     "name": "stdout",
     "output_type": "stream",
     "text": [
      "(76020,)\n",
      "(76020, 369)\n"
     ]
    }
   ],
   "source": [
    "# separate label information from features and drop the ID as it is not relevant for future training purposes.\n",
    "# according to the data description in the competition, the label's values are 0=satisfied and 1=unsatisified customer\n",
    "labels = orig_data['TARGET']\n",
    "features = orig_data.drop(['ID', 'TARGET'], axis=1)\n",
    "\n",
    "print (labels.shape) # 76020 labels\n",
    "print (features.shape) # 76020 customers described through 369 features (=attributes)"
   ]
  },
  {
   "cell_type": "code",
   "execution_count": 4,
   "metadata": {
    "collapsed": false
   },
   "outputs": [
    {
     "name": "stdout",
     "output_type": "stream",
     "text": [
      "(60816, 369)   (60816,)\n",
      "(15204, 369)   (15204,)\n"
     ]
    }
   ],
   "source": [
    "# split the original data set into an X_train and an X_valid set and respective labels Y_train and Y_valid.\n",
    "# on the X_train set a classifier will be trained and on the X_valid set it will be applied for predictions. \n",
    "\n",
    "# stratfiedShuffleSplit used: to keep the ratio of 0s and 1s in your train and valid sets, so that not all 1s are \n",
    "# in the Y_train and only 0s are in Y_valid etc. So, keep the proportion of satisfied/unsatisfied customers in \n",
    "# both sets train and valid. \n",
    "\n",
    "# test_size=0.2: the valid set will have 20% and the train set 80% of the original data.\n",
    "\n",
    "sfs = StratifiedShuffleSplit(labels, test_size=0.2)\n",
    "for train_index, test_index in sfs:\n",
    "    X_train, X_valid = features.iloc[train_index], features.iloc[test_index] #needs iloc to get indexes straight\n",
    "    Y_train, Y_valid = labels[train_index], labels[test_index]\n",
    "    \n",
    "print (X_train.shape, ' ', Y_train.shape) # 60816 samples will be used to train a model - 80%\n",
    "print (X_valid.shape, ' ', Y_valid.shape) # 15204 samples will be used to validate the model on unseen data - 20%"
   ]
  },
  {
   "cell_type": "markdown",
   "metadata": {},
   "source": [
    "Now, a first classifier can be trained on the X_train set. \n",
    "\n",
    "It can then be used for a first prediction on X_valid. The predicted values will be compared to the Y_valid values. \n",
    "\n",
    "Leading to a first benchmark performance."
   ]
  },
  {
   "cell_type": "markdown",
   "metadata": {},
   "source": [
    "# Model train - Representation and a first prediction score"
   ]
  },
  {
   "cell_type": "code",
   "execution_count": 5,
   "metadata": {
    "collapsed": false
   },
   "outputs": [
    {
     "name": "stdout",
     "output_type": "stream",
     "text": [
      "... prediction score: 93.77%\n"
     ]
    }
   ],
   "source": [
    "clf = RandomForestClassifier(n_estimators=10, class_weight='balanced')\n",
    "\n",
    "# TRAIN\n",
    "clf.fit(X_train, Y_train) \n",
    "\n",
    " \n",
    "# PREDICT       \n",
    "pred_labels = clf.predict(X_valid)\n",
    "pred_proba = clf.predict_proba(X_valid)[:,1]\n",
    "    \n",
    "\n",
    "# EVALUATE\n",
    "pred_score = clf.score(X_valid, Y_valid)\n",
    "print('... prediction score: {0:0.2f}%'.format(pred_score * 100))"
   ]
  },
  {
   "cell_type": "markdown",
   "metadata": {},
   "source": [
    "My first prediction score ever, with a very very simple random forest classifier, resulting in a score of 95.42%! I was amazed. But after my first 5 minutes of triumph I started to disbelieve that this could be true. \n",
    "\n",
    "Did I do everything right? how does prediction score work? how does performance evaluation work? \n",
    "After browsing through some books and articles, I found the suggestion to check the balance (or imbalance) of your dataset!\n",
    "\n",
    "In other words, in my train set, how many entries are labeled with 0 and how many with 1?"
   ]
  },
  {
   "cell_type": "code",
   "execution_count": 6,
   "metadata": {
    "collapsed": false
   },
   "outputs": [
    {
     "name": "stdout",
     "output_type": "stream",
     "text": [
      "   Target       perc\n",
      "0   73012  96.043147\n",
      "1    3008   3.956853\n",
      "\n",
      "...96.04 satisfied customers vs. 3.96 unsatisfied customer\n"
     ]
    }
   ],
   "source": [
    "# let's have a look at the data's balance or imbalance\n",
    "# in other words, analyze how many 'satisfied vs. unsatisfied' customers are in our original data set\n",
    "df = pd.DataFrame(orig_data.TARGET.value_counts())\n",
    "df.columns = ['Target']\n",
    "df['perc'] = 100 * df['Target'] / orig_data.shape[0]    \n",
    "    \n",
    "print(df)\n",
    "print('')\n",
    "print('...{0:0.2f} satisfied customers vs. {1:0.2f} unsatisfied customer'.format(df.loc[0,'perc'], df.loc[1,'perc']))"
   ]
  },
  {
   "cell_type": "markdown",
   "metadata": {},
   "source": [
    "Now it cleared up. 96% of all samples result in 0 (satisified) and only 4% result in 1 (unsatisfied).\n",
    "\n",
    "This means if I always predicted a 0 (satisfied customer), without even thinking or analyzing etc. just take 0 as default value, I would reach a prediction score of 96%! This is even better than my classifier.  \n",
    "\n",
    "This is not really fulfilling the business purpose! \n",
    "The goal is to find the 4% unsatisfied customers. From a business perspective it might even be better, to find more than the relevant 4% to be sure that we didn't miss any unsatisfied customer. Not saying that it is good to predict satisfied customers as unsatisfied, but the other way around is even worse. \n",
    "\n",
    "So as a conclusion: \n",
    "- prediction score only should be taken with a grain of salt! \n",
    "- always check your data's balance (at least in a case as the one described here)\n",
    "- check out other performance evaluations, as outlined below: confusion matrix and auc/roc curve"
   ]
  },
  {
   "cell_type": "markdown",
   "metadata": {},
   "source": [
    "## Evaluate performance using confusion matrix and AUC / ROC"
   ]
  },
  {
   "cell_type": "code",
   "execution_count": 7,
   "metadata": {
    "collapsed": false
   },
   "outputs": [
    {
     "name": "stdout",
     "output_type": "stream",
     "text": [
      "[[14204   398]\n",
      " [  549    53]]\n"
     ]
    }
   ],
   "source": [
    "# first let's print the confusion matrix (true_labels, pred_labels), to understand what kind of errors the classifier \n",
    "# produces. Always enter the actual values first, followed by the predictions. \n",
    "\n",
    "print(confusion_matrix(Y_valid, pred_labels))"
   ]
  },
  {
   "cell_type": "markdown",
   "metadata": {},
   "source": [
    "The matrix above has to be read as following:\n",
    "\n",
    "- Actual satisfied (0) and predicted satisfied (0) = 14484 (TN - true negative)\n",
    "- Actual satisfied (0) and predicted unsatisfied (1) = 118 (FP - false positive)\n",
    "- Actual unsatisfied (1) and predicted satisfied (0) = 575 (FN - false negative)\n",
    "- Actual unsatisfied (1) and predicted unsatisfied (1) = 27 (TP - true positive)\n",
    "\n",
    "The FP are not nice, but in the worst case I approach a satisfied customer again to try to make him satisfied. What really hurts from my point of view are the FN: People that have been predicted as satisfied, but are actually unsatisfied! \n",
    "\n",
    "Let's try another performance evaluator to see how well the classifier performs: the auc value and roc curve."
   ]
  },
  {
   "cell_type": "code",
   "execution_count": 8,
   "metadata": {
    "collapsed": false
   },
   "outputs": [
    {
     "name": "stdout",
     "output_type": "stream",
     "text": [
      "\n"
     ]
    },
    {
     "data": {
      "image/png": "[encoded data removed]",
      "text/plain": [
       "<matplotlib.figure.Figure at 0x11a0a9198>"
      ]
     },
     "metadata": {},
     "output_type": "display_data"
    }
   ],
   "source": [
    "# calculate the false positive and true positive rates. \n",
    "# calculate the auc score\n",
    "\n",
    "fpr, tpr, thresholds = roc_curve(Y_valid, pred_proba)\n",
    "auc_score = roc_auc_score(Y_valid, pred_proba) \n",
    "\n",
    "\n",
    "# plot the roc curve\n",
    "fig = plt.figure(figsize=(10,7))\n",
    "fig.add_subplot(1,1,1)    \n",
    "    \n",
    "plt.plot(fpr, tpr, label='ROC curve (area = {0:0.2f})'.format(auc_score))\n",
    "plt.xlim([0.0, 1.0])\n",
    "plt.ylim([0.0, 1.0])\n",
    "plt.title('ROC curve on original X_train data')\n",
    "plt.xlabel('False Positive Rate (1-Specificity)')\n",
    "plt.ylabel('True Positive Rate (Sensitivity)')\n",
    "plt.grid(True)\n",
    "plt.legend(loc='lower right')\n",
    "print('')"
   ]
  },
  {
   "cell_type": "markdown",
   "metadata": {},
   "source": [
    "Is this good or bad? Well according to auc which is represented by the value (area=0.69), this is poor.\n",
    "\n",
    "auc values:\n",
    "- 0.9 - 1.0 = excellent\n",
    "- 0.8 - 0.9 = good\n",
    "- 0.7 - 0.8 = fair\n",
    "- 0.6 - 0.7 = poor\n",
    "- 0.5 - 0.6 = failed\n",
    "\n",
    "This can also be seen by the roc curve which is 'quite flat'. The optimal curve (e.g. an excellent classifier's roc curve) would hit the upper left corner. \n",
    "\n",
    "So much for my first steps and lessons learnt. Next steps will follow: how does this roc curve have to be interpreted? how can I bring my FN down? ... "
   ]
  },
  {
   "cell_type": "code",
   "execution_count": null,
   "metadata": {
    "collapsed": true
   },
   "outputs": [],
   "source": []
  }
 ],
 "metadata": {
  "anaconda-cloud": {},
  "kernelspec": {
   "display_name": "Python [Root]",
   "language": "python",
   "name": "Python [Root]"
  },
  "language_info": {
   "codemirror_mode": {
    "name": "ipython",
    "version": 3
   },
   "file_extension": ".py",
   "mimetype": "text/x-python",
   "name": "python",
   "nbconvert_exporter": "python",
   "pygments_lexer": "ipython3",
   "version": "3.5.2"
  }
 },
 "nbformat": 4,
 "nbformat_minor": 0
}
