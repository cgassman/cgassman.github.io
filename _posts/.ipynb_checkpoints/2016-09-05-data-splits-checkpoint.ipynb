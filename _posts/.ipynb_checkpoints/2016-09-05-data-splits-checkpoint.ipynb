{
 "cells": [
  {
   "cell_type": "code",
   "execution_count": 1,
   "metadata": {
    "collapsed": true
   },
   "outputs": [],
   "source": [
    "# relevant imports\n",
    "import pandas as pd\n",
    "from sklearn.cross_validation import StratifiedShuffleSplit"
   ]
  },
  {
   "cell_type": "code",
   "execution_count": 2,
   "metadata": {
    "collapsed": false
   },
   "outputs": [],
   "source": [
    "# read in data\n",
    "orig_data = pd.read_table('train.csv', sep=',', header=0)"
   ]
  },
  {
   "cell_type": "code",
   "execution_count": 3,
   "metadata": {
    "collapsed": true
   },
   "outputs": [],
   "source": [
    "# split data in a balanced way. \n",
    "# 80% into the X_train (and related Y_train) and 20% into the X_valid (and related Y_valid) set. \n",
    "labels = orig_data['TARGET']\n",
    "features = orig_data.drop(['ID', 'TARGET'], axis=1)\n",
    "sfs = StratifiedShuffleSplit(labels, test_size=0.2)\n",
    "for train_index, test_index in sfs:\n",
    "    X_train, X_valid = features.iloc[train_index], features.iloc[test_index] #needs iloc to get indexes straight\n",
    "    Y_train, Y_valid = labels[train_index], labels[test_index]  "
   ]
  },
  {
   "cell_type": "code",
   "execution_count": 4,
   "metadata": {
    "collapsed": false
   },
   "outputs": [
    {
     "name": "stdout",
     "output_type": "stream",
     "text": [
      "(60816, 369)   (60816,)\n",
      "(15204, 369)   (15204,)\n"
     ]
    }
   ],
   "source": [
    "# split of original data set into a X_train and X_valid set with variable to be predicted in Y_train and Y_valid. \n",
    "print (X_train.shape, ' ', Y_train.shape) \n",
    "print (X_valid.shape, ' ', Y_valid.shape)"
   ]
  },
  {
   "cell_type": "code",
   "execution_count": 9,
   "metadata": {
    "collapsed": false
   },
   "outputs": [
    {
     "name": "stdout",
     "output_type": "stream",
     "text": [
      "      TARGET\n",
      "0  96.043147\n",
      "1   3.956853\n"
     ]
    }
   ],
   "source": [
    "# check balance satisfied vs. unsatisfied customers in the original data\n",
    "cts = pd.DataFrame(orig_data.TARGET.value_counts())\n",
    "perc = 100 * cts / orig_data.shape[0] \n",
    "print(perc)"
   ]
  },
  {
   "cell_type": "code",
   "execution_count": 5,
   "metadata": {
    "collapsed": false
   },
   "outputs": [
    {
     "name": "stdout",
     "output_type": "stream",
     "text": [
      "0    96.043804\n",
      "1     3.956196\n",
      "Name: TARGET, dtype: float64\n"
     ]
    }
   ],
   "source": [
    "# check balance satisfied vs. unsatisfied customers in the train data split \n",
    "cts = Y_train.value_counts()\n",
    "perc = 100 * cts / Y_train.shape\n",
    "print(perc)"
   ]
  },
  {
   "cell_type": "code",
   "execution_count": 6,
   "metadata": {
    "collapsed": false
   },
   "outputs": [
    {
     "name": "stdout",
     "output_type": "stream",
     "text": [
      "0    96.040516\n",
      "1     3.959484\n",
      "Name: TARGET, dtype: float64\n"
     ]
    }
   ],
   "source": [
    "# check balance satisfied vs. unsatisfied customers in the valid data split\n",
    "cts = Y_valid.value_counts()\n",
    "perc = 100 * cts / Y_valid.shape\n",
    "print(perc)"
   ]
  },
  {
   "cell_type": "code",
   "execution_count": null,
   "metadata": {
    "collapsed": true
   },
   "outputs": [],
   "source": []
  }
 ],
 "metadata": {
  "anaconda-cloud": {},
  "kernelspec": {
   "display_name": "Python [Root]",
   "language": "python",
   "name": "Python [Root]"
  },
  "language_info": {
   "codemirror_mode": {
    "name": "ipython",
    "version": 3
   },
   "file_extension": ".py",
   "mimetype": "text/x-python",
   "name": "python",
   "nbconvert_exporter": "python",
   "pygments_lexer": "ipython3",
   "version": "3.5.2"
  }
 },
 "nbformat": 4,
 "nbformat_minor": 0
}
