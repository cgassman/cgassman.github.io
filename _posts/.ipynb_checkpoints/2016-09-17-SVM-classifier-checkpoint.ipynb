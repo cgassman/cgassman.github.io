{
 "cells": [
  {
   "cell_type": "markdown",
   "metadata": {},
   "source": [
    "# SVM"
   ]
  },
  {
   "cell_type": "markdown",
   "metadata": {},
   "source": [
    "## Relevant imports, read data"
   ]
  },
  {
   "cell_type": "code",
   "execution_count": null,
   "metadata": {
    "collapsed": true
   },
   "outputs": [],
   "source": [
    "import pandas as pd\n",
    "\n",
    "from sklearn.preprocessing import normalize\n",
    "\n",
    "from sklearn.cross_validation import StratifiedShuffleSplit\n",
    "\n",
    "from sklearn.svm import SVC\n",
    "from sklearn.ensemble import BaggingClassifier\n",
    "\n",
    "from sklearn.metrics import roc_curve\n",
    "from sklearn.metrics import roc_auc_score\n",
    "from sklearn.metrics import confusion_matrix\n",
    "\n",
    "from matplotlib import pyplot as plt\n",
    "%matplotlib inline"
   ]
  },
  {
   "cell_type": "code",
   "execution_count": 2,
   "metadata": {
    "collapsed": false
   },
   "outputs": [],
   "source": [
    "# read data that resulted from feature selection and preparation step. \n",
    "X_train = pd.read_table('X_train_reduced.csv', sep=',', header=0)\n",
    "\n",
    "# read in Y_train\n",
    "Y_train = pd.read_table('Y_train.csv', sep=',', header=0)\n",
    "Y_train = Y_train['TARGET']  # to get a 1d array for the random forest algorithm later on."
   ]
  },
  {
   "cell_type": "code",
   "execution_count": 3,
   "metadata": {
    "collapsed": true
   },
   "outputs": [],
   "source": [
    "# normalize features to give them all equal importance and calculate principal components\n",
    "X_train_normalized = normalize(X_train, axis=0)"
   ]
  },
  {
   "cell_type": "markdown",
   "metadata": {},
   "source": [
    "## Model train"
   ]
  },
  {
   "cell_type": "code",
   "execution_count": null,
   "metadata": {
    "collapsed": false
   },
   "outputs": [],
   "source": [
    "# TRAIN \n",
    "# probability = True ; needs probability for decision_function in prediction \n",
    "# class_weight = balanced; to weight the unsatisfied customers inversely proporational to the satisfied ones\n",
    "clf = BaggingClassifier(SVC(cache_size=200, kernel='rbf', class_weight='balanced')) \n",
    "clf.fit(X_train_normalized, Y_train)"
   ]
  },
  {
   "cell_type": "markdown",
   "metadata": {},
   "source": [
    "## Predict"
   ]
  },
  {
   "cell_type": "code",
   "execution_count": 18,
   "metadata": {
    "collapsed": true
   },
   "outputs": [],
   "source": [
    "# read data that resulted from feature selection and preparation step. \n",
    "X_valid = pd.read_table('X_valid_reduced.csv', sep=',', header=0)\n",
    "\n",
    "# read in Y_train\n",
    "Y_valid = pd.read_table('Y_valid.csv', sep=',', header=0)\n",
    "Y_valid = Y_valid['TARGET']  # to get a 1d array for the random forest algorithm later on."
   ]
  },
  {
   "cell_type": "code",
   "execution_count": 19,
   "metadata": {
    "collapsed": true
   },
   "outputs": [],
   "source": [
    "# normalize features to give them all equal importance and calculate principal components\n",
    "X_valid_normalized = normalize(X_valid, axis=0)"
   ]
  },
  {
   "cell_type": "code",
   "execution_count": 20,
   "metadata": {
    "collapsed": true
   },
   "outputs": [],
   "source": [
    "# PREDICT\n",
    "pred_labels = clf.predict(X_valid_normalized)\n",
    "pred_proba = clf.decision_function(X_valid_normalized)"
   ]
  },
  {
   "cell_type": "markdown",
   "metadata": {},
   "source": [
    "## Evaluate"
   ]
  },
  {
   "cell_type": "code",
   "execution_count": 21,
   "metadata": {
    "collapsed": false
   },
   "outputs": [
    {
     "name": "stdout",
     "output_type": "stream",
     "text": [
      "... prediction score: 96.04%\n",
      "\n",
      "[[14602     0]\n",
      " [  602     0]]\n"
     ]
    }
   ],
   "source": [
    "pred_score = clf.score(X_valid_normalized, Y_valid)\n",
    "print('... prediction score: {0:0.2f}%'.format(pred_score * 100))\n",
    "print('')\n",
    "\n",
    "print(confusion_matrix(Y_valid, pred_labels))"
   ]
  },
  {
   "cell_type": "markdown",
   "metadata": {},
   "source": [
    "## ROC / AUC curve"
   ]
  },
  {
   "cell_type": "code",
   "execution_count": 22,
   "metadata": {
    "collapsed": true
   },
   "outputs": [],
   "source": [
    "from sklearn.metrics import roc_curve\n",
    "from sklearn.metrics import roc_auc_score\n",
    "\n",
    "from matplotlib import pyplot as plt\n",
    "%matplotlib inline"
   ]
  },
  {
   "cell_type": "code",
   "execution_count": 23,
   "metadata": {
    "collapsed": false
   },
   "outputs": [
    {
     "name": "stdout",
     "output_type": "stream",
     "text": [
      "\n"
     ]
    },
    {
     "data": {
      "image/png": "[encoded data removed]",
      "text/plain": [
       "<matplotlib.figure.Figure at 0x125c2f908>"
      ]
     },
     "metadata": {},
     "output_type": "display_data"
    }
   ],
   "source": [
    "# calculate the false positive and true positive rates. \n",
    "# calculate the auc score\n",
    "\n",
    "fpr, tpr, thresholds = roc_curve(Y_valid, pred_proba)\n",
    "auc_score = roc_auc_score(Y_valid, pred_proba) \n",
    "\n",
    "\n",
    "# plot the roc curve\n",
    "fig = plt.figure(figsize=(10,7))\n",
    "fig.add_subplot(1,1,1)    \n",
    "    \n",
    "plt.plot(fpr, tpr, label='ROC curve (area = {0:0.2f})'.format(auc_score))\n",
    "plt.xlim([0.0, 1.0])\n",
    "plt.ylim([0.0, 1.0])\n",
    "plt.title('ROC curve on original X_train data')\n",
    "plt.xlabel('False Positive Rate (1-Specificity)')\n",
    "plt.ylabel('True Positive Rate (Sensitivity)')\n",
    "plt.grid(True)\n",
    "plt.legend(loc='lower right')\n",
    "print('')"
   ]
  },
  {
   "cell_type": "code",
   "execution_count": null,
   "metadata": {
    "collapsed": true
   },
   "outputs": [],
   "source": []
  }
 ],
 "metadata": {
  "anaconda-cloud": {},
  "kernelspec": {
   "display_name": "Python [Root]",
   "language": "python",
   "name": "Python [Root]"
  },
  "language_info": {
   "codemirror_mode": {
    "name": "ipython",
    "version": 3
   },
   "file_extension": ".py",
   "mimetype": "text/x-python",
   "name": "python",
   "nbconvert_exporter": "python",
   "pygments_lexer": "ipython3",
   "version": "3.5.2"
  }
 },
 "nbformat": 4,
 "nbformat_minor": 0
}
