{
 "cells": [
  {
   "cell_type": "markdown",
   "metadata": {},
   "source": [
    "# SVM"
   ]
  },
  {
   "cell_type": "markdown",
   "metadata": {},
   "source": [
    "## Read data and split into train and valid set"
   ]
  },
  {
   "cell_type": "code",
   "execution_count": 12,
   "metadata": {
    "collapsed": true
   },
   "outputs": [],
   "source": [
    "import pandas as pd\n",
    "\n",
    "from sklearn.cross_validation import StratifiedShuffleSplit\n",
    "\n",
    "from sklearn.svm import SVC\n",
    "\n",
    "from sklearn.metrics import roc_curve\n",
    "from sklearn.metrics import roc_auc_score\n",
    "from sklearn.metrics import confusion_matrix\n",
    "\n",
    "from matplotlib import pyplot as plt\n",
    "%matplotlib inline"
   ]
  },
  {
   "cell_type": "code",
   "execution_count": 13,
   "metadata": {
    "collapsed": true
   },
   "outputs": [],
   "source": [
    "# read original data from train.csv. This data set is taken from a real Kaggle competition (Santander-May 2016)\n",
    "# (there is also a dedicated test set available, which was not taken into account here)\n",
    "orig_data = pd.read_table('train.csv', sep=',', header=0)"
   ]
  },
  {
   "cell_type": "code",
   "execution_count": 14,
   "metadata": {
    "collapsed": true
   },
   "outputs": [],
   "source": [
    "# separate label information from features and drop the ID as it is not relevant for future training purposes.\n",
    "# according to the data description in the competition, the label's values are 0=satisfied and 1=unsatisified customer\n",
    "labels = orig_data['TARGET']\n",
    "features = orig_data.drop(['ID', 'TARGET'], axis=1)"
   ]
  },
  {
   "cell_type": "code",
   "execution_count": 15,
   "metadata": {
    "collapsed": true
   },
   "outputs": [],
   "source": [
    "# split the original data set into an X_train and an X_valid set and respective labels Y_train and Y_valid.\n",
    "# on the X_train set a classifier will be trained and on the X_valid set it will be applied for predictions. \n",
    "\n",
    "# stratfiedShuffleSplit used: to keep the ratio of 0s and 1s in your train and valid sets, so that not all 1s are \n",
    "# in the Y_train and only 0s are in Y_valid etc. So, keep the proportion of satisfied/unsatisfied customers in \n",
    "# both sets train and valid. \n",
    "\n",
    "# test_size=0.2: the valid set will have 20% and the train set 80% of the original data.\n",
    "\n",
    "sfs = StratifiedShuffleSplit(labels, test_size=0.2)\n",
    "for train_index, test_index in sfs:\n",
    "    X_train, X_valid = features.iloc[train_index], features.iloc[test_index] #needs iloc to get indexes straight\n",
    "    Y_train, Y_valid = labels[train_index], labels[test_index]"
   ]
  },
  {
   "cell_type": "markdown",
   "metadata": {},
   "source": [
    "## Model train, predict"
   ]
  },
  {
   "cell_type": "code",
   "execution_count": 16,
   "metadata": {
    "collapsed": false
   },
   "outputs": [
    {
     "name": "stdout",
     "output_type": "stream",
     "text": [
      "debug output ... predict\n",
      "debug output ... predicted\n"
     ]
    }
   ],
   "source": [
    "# TRAIN \n",
    "clf = SVC(cache_size=7000) # probability = True ; needs probability for decision_function in prediction \n",
    "clf.fit(X_train[:20000], Y_train[:20000])\n",
    "    \n",
    "# PREDICT - this step really consumes time\n",
    "pred_labels = clf.predict(X_valid[:20000])\n",
    "#    pred_proba = clf.decision_function(test_data)"
   ]
  },
  {
   "cell_type": "markdown",
   "metadata": {},
   "source": [
    "## Evaluate"
   ]
  },
  {
   "cell_type": "code",
   "execution_count": 19,
   "metadata": {
    "collapsed": false
   },
   "outputs": [
    {
     "name": "stdout",
     "output_type": "stream",
     "text": [
      "... prediction score: 95.99%\n",
      "\n"
     ]
    },
    {
     "data": {
      "text/plain": [
       "array([[14595,     7],\n",
       "       [  602,     0]])"
      ]
     },
     "execution_count": 19,
     "metadata": {},
     "output_type": "execute_result"
    }
   ],
   "source": [
    "pred_score = clf.score(X_valid[:20000], Y_valid[:20000])\n",
    "print('... prediction score: {0:0.2f}%'.format(pred_score * 100))\n",
    "print('')\n",
    "\n",
    "confusion_matrix(Y_valid[:20000], pred_labels)"
   ]
  }
 ],
 "metadata": {
  "kernelspec": {
   "display_name": "Python [Root]",
   "language": "python",
   "name": "Python [Root]"
  },
  "language_info": {
   "codemirror_mode": {
    "name": "ipython",
    "version": 3
   },
   "file_extension": ".py",
   "mimetype": "text/x-python",
   "name": "python",
   "nbconvert_exporter": "python",
   "pygments_lexer": "ipython3",
   "version": "3.5.2"
  }
 },
 "nbformat": 4,
 "nbformat_minor": 0
}
